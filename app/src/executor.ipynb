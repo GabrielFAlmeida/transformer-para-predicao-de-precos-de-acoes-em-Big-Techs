{
 "cells": [
  {
   "cell_type": "code",
   "execution_count": null,
   "id": "ce93bf81",
   "metadata": {},
   "outputs": [],
   "source": [
    "# Executor file\n",
    "# Authors: Gabriel França de Almeida e Eneia Gazite\n",
    "# Start Date: 2025-05-26\n",
    "# Last Update: 2025-05-26"
   ]
  },
  {
   "cell_type": "code",
   "execution_count": null,
   "id": "3ca2a867",
   "metadata": {},
   "outputs": [],
   "source": [
    "# Import section\n",
    "import pandas as pd\n",
    "import numpy as np\n",
    "import io, os, sys, types\n",
    "\n",
    "from IPython import get_ipython\n",
    "from nbformat import read\n",
    "from IPython.core.interactiveshell import InteractiveShell"
   ]
  },
  {
   "cell_type": "code",
   "execution_count": null,
   "id": "9c0e92e5",
   "metadata": {},
   "outputs": [],
   "source": [
    "# Module finder and Module loader section\n",
    "\n",
    "def find_notebook(fullname, path=):\n",
    "    \"\"\"find a notebook, given its fully qualified name and an optional path\n",
    "\n",
    "    This turns \"foo.bar\" into \"foo/bar.ipynb\"\n",
    "    and tries turning \"Foo_Bar\" into \"Foo Bar\" if Foo_Bar\n",
    "    does not exist.\n",
    "    \"\"\"\n",
    "    name = fullname.rsplit('.', 1)[-1]\n",
    "    if not path:\n",
    "        path = ['']\n",
    "    for d in path:\n",
    "        nb_path = os.path.join(d, name + \".ipynb\")\n",
    "        if os.path.isfile(nb_path):\n",
    "            return nb_path\n",
    "        # let import Notebook_Name find \"Notebook Name.ipynb\"\n",
    "        nb_path = nb_path.replace(\"_\", \" \")\n",
    "        if os.path.isfile(nb_path):\n",
    "            return nb_path"
   ]
  },
  {
   "cell_type": "code",
   "execution_count": null,
   "id": "bd67e6fd",
   "metadata": {},
   "outputs": [],
   "source": [
    "# Code section\n",
    "print(\"Hello World!\")\n",
    "\n",
    "find_notebook = types.ModuleType(\"find_notebook\")"
   ]
  }
 ],
 "metadata": {
  "language_info": {
   "name": "python"
  }
 },
 "nbformat": 4,
 "nbformat_minor": 5
}
