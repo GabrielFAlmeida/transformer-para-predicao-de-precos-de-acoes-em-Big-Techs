{
 "cells": [
  {
   "cell_type": "code",
   "execution_count": null,
   "id": "e43cb43b",
   "metadata": {},
   "outputs": [],
   "source": [
    "# Validator file\n",
    "# Authors: Gabriel França de Almeida e Eneia Gazite\n",
    "# Start Date: 2025-05-26\n",
    "# Last Update: 2025-05-26"
   ]
  },
  {
   "cell_type": "code",
   "execution_count": null,
   "id": "5a930f42",
   "metadata": {},
   "outputs": [],
   "source": [
    "# Import section\n",
    "import pandas as pd\n",
    "import numpy as np"
   ]
  },
  {
   "cell_type": "code",
   "execution_count": null,
   "id": "7a2a5101",
   "metadata": {},
   "outputs": [],
   "source": [
    "# Code section\n",
    "def is_DataFrame(data: any) -> (boolean or TypeError):\n",
    "    return isinstance(data, pd.DataFrame)"
   ]
  }
 ],
 "metadata": {
  "language_info": {
   "name": "python"
  }
 },
 "nbformat": 4,
 "nbformat_minor": 5
}
